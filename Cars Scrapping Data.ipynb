{
 "cells": [
  {
   "cell_type": "code",
   "execution_count": 27,
   "id": "0db320a7",
   "metadata": {},
   "outputs": [],
   "source": [
    "from requests import get,request\n",
    "from bs4 import BeautifulSoup\n",
    "from time import time, sleep\n",
    "import random\n",
    "import re\n",
    "import requests"
   ]
  },
  {
   "cell_type": "code",
   "execution_count": 121,
   "id": "3151432f",
   "metadata": {},
   "outputs": [],
   "source": [
    "url = \"https://www.cardekho.com/cars/Tata\"\n",
    "agent = {\"User-Agent\":'Mozilla/5.0 (Windows NT 6.3; WOW64) AppleWebKit/537.36 (KHTML, like Gecko) Chrome/59.0.3071.115 Safari/537.36'}\n",
    "page = requests.get(url, headers=agent)\n",
    "soup = BeautifulSoup(page.content, 'lxml')"
   ]
  },
  {
   "cell_type": "code",
   "execution_count": 122,
   "id": "665451a7",
   "metadata": {},
   "outputs": [],
   "source": [
    "pre_model = soup.find('div', class_=\"gsc_col-md-8 gsc_col-lg-9 gsc_col-sm-12 gsc_col-xs-12 BrandDesc\")\n",
    "model_list = pre_model.find('ul', class_=\"modelList\")\n",
    "all_models = model_list.find_all('li')"
   ]
  },
  {
   "cell_type": "code",
   "execution_count": 123,
   "id": "831936fb",
   "metadata": {},
   "outputs": [
    {
     "name": "stdout",
     "output_type": "stream",
     "text": [
      "Title: Tata Punch\n",
      "Title: Tata Nexon\n",
      "Title: Tata Harrier\n",
      "<li class=\"gsc_col-xs-12 gsc_col-sm-6 gsc_col-md-12 gsc_col-lg-12\"><div adprefix=\"ExtraAd\"></div><aside class=\"adText\" style=\"margin-left:auto;margin-right:auto\"><p>Ad</p><div data-load-initially=\"false\" data-sdef=\"/1089059/CD_WEB_WAP_MakePage_728x90_300x250_MTF2\" data-size=\"[[728,90]]\" data-slot-def=\"/1089059/CD_WEB_WAP_MakePage_728x90_300x250_MTF2\" data-type=\"size\" id=\"div-gpt-ad-1558677062186-0\"></div></aside></li>\n",
      "\n",
      "Title: Tata Safari\n",
      "Title: Tata Tiago\n",
      "Title: Tata Altroz\n",
      "Title: Tata Nexon EV\n",
      "Title: Tata Tiago EV\n",
      "Title: Tata Tigor\n",
      "Title: Tata Tigor EV\n",
      "Title: Tata Yodha Pickup\n",
      "Title: Tata Tiago NRG\n"
     ]
    }
   ],
   "source": [
    "all_models_list = []\n",
    "for i in all_models:\n",
    "    try:\n",
    "        list1 = i.find('div', class_='gsc_col-sm-12 gsc_col-xs-12 gsc_col-md-8 listView holder posS')\n",
    "        title = list1.h3.a.text\n",
    "        all_models_list.append(title)\n",
    "        print(\"Title:\", title)\n",
    "    except Exception as e:\n",
    "        print(i, end='\\n\\n')"
   ]
  },
  {
   "cell_type": "code",
   "execution_count": 124,
   "id": "df1ae1c5",
   "metadata": {},
   "outputs": [
    {
     "data": {
      "text/plain": [
       "['Tata Punch',\n",
       " 'Tata Nexon',\n",
       " 'Tata Harrier',\n",
       " 'Tata Safari',\n",
       " 'Tata Tiago',\n",
       " 'Tata Altroz',\n",
       " 'Tata Nexon EV',\n",
       " 'Tata Tiago EV',\n",
       " 'Tata Tigor',\n",
       " 'Tata Tigor EV',\n",
       " 'Tata Yodha Pickup',\n",
       " 'Tata Tiago NRG']"
      ]
     },
     "execution_count": 124,
     "metadata": {},
     "output_type": "execute_result"
    }
   ],
   "source": [
    "all_models_list"
   ]
  },
  {
   "cell_type": "code",
   "execution_count": 125,
   "id": "d6bdc82a",
   "metadata": {},
   "outputs": [
    {
     "name": "stdout",
     "output_type": "stream",
     "text": [
      "{'Tata Punch': 'https://www.cardekho.com//Tata/Punch', 'Tata Nexon': 'https://www.cardekho.com//Tata/Nexon', 'Tata Harrier': 'https://www.cardekho.com//Tata/Harrier', 'Tata Safari': 'https://www.cardekho.com//Tata/Safari', 'Tata Tiago': 'https://www.cardekho.com//Tata/Tiago', 'Tata Altroz': 'https://www.cardekho.com//Tata/Altroz', 'Tata Nexon EV': 'https://www.cardekho.com//Tata/Nexon/EV', 'Tata Tiago EV': 'https://www.cardekho.com//Tata/Tiago/EV', 'Tata Tigor': 'https://www.cardekho.com//Tata/Tigor', 'Tata Tigor EV': 'https://www.cardekho.com//Tata/Tigor/EV', 'Tata Yodha Pickup': 'https://www.cardekho.com//Tata/Yodha/Pickup', 'Tata Tiago NRG': 'https://www.cardekho.com//Tata/Tiago/NRG'}\n"
     ]
    }
   ],
   "source": [
    "base_url = \"https://www.cardekho.com/\"\n",
    "url_list = {}\n",
    "\n",
    "for model in all_models_list:\n",
    "    url_list[model] = f\"{base_url}/{'/'.join(model.split(' '))}\"\n",
    "\n",
    "print(url_list)\n"
   ]
  },
  {
   "cell_type": "code",
   "execution_count": null,
   "id": "e008bbb9",
   "metadata": {},
   "outputs": [],
   "source": []
  }
 ],
 "metadata": {
  "kernelspec": {
   "display_name": "Python 3 (ipykernel)",
   "language": "python",
   "name": "python3"
  },
  "language_info": {
   "codemirror_mode": {
    "name": "ipython",
    "version": 3
   },
   "file_extension": ".py",
   "mimetype": "text/x-python",
   "name": "python",
   "nbconvert_exporter": "python",
   "pygments_lexer": "ipython3",
   "version": "3.11.5"
  }
 },
 "nbformat": 4,
 "nbformat_minor": 5
}
