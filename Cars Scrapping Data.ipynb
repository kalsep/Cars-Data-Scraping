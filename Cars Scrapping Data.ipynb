{
 "cells": [
  {
   "cell_type": "code",
   "execution_count": 115,
   "id": "f0858bff",
   "metadata": {},
   "outputs": [],
   "source": [
    "from requests import get,request\n",
    "from bs4 import BeautifulSoup\n",
    "from time import time, sleep\n",
    "import random\n",
    "import re\n",
    "import requests\n",
    "from urllib.parse import urljoin, urlencode\n",
    "base_url = \"https://www.cardekho.com/\""
   ]
  },
  {
   "cell_type": "code",
   "execution_count": 116,
   "id": "f934b4dc",
   "metadata": {},
   "outputs": [],
   "source": [
    "def get_soup(url='https://www.cardekho.com/cars/Tata'):\n",
    "    agent = {\"User-Agent\":'Mozilla/5.0 (Windows NT 6.3; WOW64) AppleWebKit/537.36 (KHTML, like Gecko) Chrome/59.0.3071.115 Safari/537.36'}\n",
    "    page = requests.get(url, headers=agent)\n",
    "    soup = BeautifulSoup(page.content, 'lxml')\n",
    "    return soup"
   ]
  },
  {
   "cell_type": "code",
   "execution_count": 117,
   "id": "92811726",
   "metadata": {},
   "outputs": [],
   "source": [
    "def get_modelvariant_link(model_page_url):\n",
    "    soup = get_soup(model_page_url)\n",
    "    pre_model = soup.find('main', class_=\"gsc_container\")\n",
    "    table = pre_model.find('table',class_='allvariant contentHold')\n",
    "    # Extract information from the table\n",
    "    try:\n",
    "        # Initialize a list to store extracted data\n",
    "        extracted_data = []\n",
    "\n",
    "        # Extract information from the table\n",
    "        if table:\n",
    "            # Extract data from each row\n",
    "            for row in table.find_all('tr')[1:]:  # Skip the first row (headers)\n",
    "                # Extracting specific information from each row\n",
    "                columns = row.find_all(['td', 'th'])\n",
    "                title = columns[0].find('a', {'class': 'pricecolor'}).text.strip()\n",
    "\n",
    "                # Extracting href\n",
    "                href = columns[0].find('a', {'class': 'pricecolor'})['href']\n",
    "                link = urljoin(base_url,href)\n",
    "\n",
    "                # Creating a dictionary for each row\n",
    "                row_data = {\n",
    "                    'Variant': title,\n",
    "                    'link': link,\n",
    "                }\n",
    "                extracted_data.append(row_data)\n",
    "        else:\n",
    "            raise ValueError(\"Table not found.\")\n",
    "\n",
    "        # Return the extracted data\n",
    "        return extracted_data\n",
    "\n",
    "    except Exception as e:\n",
    "        print(f\"Error: {e}\")\n",
    "        return None"
   ]
  },
  {
   "cell_type": "code",
   "execution_count": 118,
   "id": "68adf211",
   "metadata": {},
   "outputs": [
    {
     "data": {
      "text/plain": [
       "[{'Variant': 'Swift LXI',\n",
       "  'link': 'https://www.cardekho.com/overview/Maruti_Swift/Maruti_Swift_LXI.htm'},\n",
       " {'Variant': 'Swift VXI',\n",
       "  'link': 'https://www.cardekho.com/overview/Maruti_Swift/Maruti_Swift_VXI.htm'},\n",
       " {'Variant': 'Swift VXI AMT',\n",
       "  'link': 'https://www.cardekho.com/overview/Maruti_Swift/Maruti_Swift_VXI_AMT.htm'},\n",
       " {'Variant': 'Swift ZXI',\n",
       "  'link': 'https://www.cardekho.com/overview/Maruti_Swift/Maruti_Swift_ZXI.htm'},\n",
       " {'Variant': 'Swift VXI CNG',\n",
       "  'link': 'https://www.cardekho.com/overview/Maruti_Swift/Maruti_Swift_VXI_CNG.htm'},\n",
       " {'Variant': 'Swift ZXI AMT',\n",
       "  'link': 'https://www.cardekho.com/overview/Maruti_Swift/Maruti_Swift_ZXI_AMT.htm'},\n",
       " {'Variant': 'Swift ZXI Plus',\n",
       "  'link': 'https://www.cardekho.com/overview/Maruti_Swift/Maruti_Swift_ZXI_Plus.htm'},\n",
       " {'Variant': 'Swift ZXI Plus DT',\n",
       "  'link': 'https://www.cardekho.com/overview/Maruti_Swift/Maruti_Swift_ZXI_Plus_DT.htm'},\n",
       " {'Variant': 'Swift ZXI CNG',\n",
       "  'link': 'https://www.cardekho.com/overview/Maruti_Swift/Maruti_Swift_ZXI_CNG.htm'},\n",
       " {'Variant': 'Swift ZXI Plus AMT',\n",
       "  'link': 'https://www.cardekho.com/overview/Maruti_Swift/Maruti_Swift_ZXI_Plus_AMT.htm'},\n",
       " {'Variant': 'Swift ZXI Plus DT AMT',\n",
       "  'link': 'https://www.cardekho.com/overview/Maruti_Swift/Maruti_Swift_ZXI_Plus_DT_AMT.htm'}]"
      ]
     },
     "execution_count": 118,
     "metadata": {},
     "output_type": "execute_result"
    }
   ],
   "source": [
    "get_modelvariant_link('https://www.cardekho.com/maruti/swift')"
   ]
  },
  {
   "cell_type": "code",
   "execution_count": 36,
   "id": "6712c9e2",
   "metadata": {},
   "outputs": [
    {
     "name": "stdout",
     "output_type": "stream",
     "text": [
      "{'Title': 'Punch Pure', 'Engine': '1199 cc', 'Transmission': 'Manual', 'FuelType': 'Petrol', 'Mileage': '20.09 kmpl', 'Href': '/overview/Tata_Punch/Tata_Punch_Pure.htm'}\n",
      "{'Title': 'Punch Pure Rhythm', 'Engine': '1199 cc', 'Transmission': 'Manual', 'FuelType': 'Petrol', 'Mileage': '20.09 kmpl', 'Href': '/overview/Tata_Punch/Tata_Punch_Pure_Rhythm.htm'}\n",
      "{'Title': 'Punch Adventure', 'Engine': '1199 cc', 'Transmission': 'Manual', 'FuelType': 'Petrol', 'Mileage': '20.09 kmpl', 'Href': '/overview/Tata_Punch/Tata_Punch_Adventure.htm'}\n",
      "{'Title': 'Punch Camo Adventure', 'Engine': '1199 cc', 'Transmission': 'Manual', 'FuelType': 'Petrol', 'Mileage': '20.09 kmpl', 'Href': '/overview/Tata_Punch/Tata_Punch_Camo_Adventure.htm'}\n",
      "{'Title': 'Punch Pure CNG', 'Engine': '1199 cc', 'Transmission': 'Manual', 'FuelType': 'CNG', 'Mileage': '26.99 km/kg', 'Href': '/overview/Tata_Punch/Tata_Punch_Pure_CNG.htm'}\n",
      "{'Title': 'Punch Adventure Rhythm', 'Engine': '1199 cc', 'Transmission': 'Manual', 'FuelType': 'Petrol', 'Mileage': '20.09 kmpl', 'Href': '/overview/Tata_Punch/Tata_Punch_Adventure_Rhythm.htm'}\n",
      "{'Title': 'Punch Camo Adventure Rhythm', 'Engine': '1199 cc', 'Transmission': 'Manual', 'FuelType': 'Petrol', 'Mileage': '20.09 kmpl', 'Href': '/overview/Tata_Punch/Tata_Punch_Camo_Adventure_Rhythm.htm'}\n",
      "{'Title': 'Punch Adventure AMT', 'Engine': '1199 cc', 'Transmission': 'Automatic', 'FuelType': 'Petrol', 'Mileage': '18.8 kmpl', 'Href': '/overview/Tata_Punch/Tata_Punch_Adventure_AMT.htm'}\n",
      "{'Title': 'Punch Camo Adventure AMT', 'Engine': '1199 cc', 'Transmission': 'Automatic', 'FuelType': 'Petrol', 'Mileage': '18.8 kmpl', 'Href': '/overview/Tata_Punch/Tata_Punch_Camo_Adventure_AMT.htm'}\n",
      "{'Title': 'Punch Camo Accomplished', 'Engine': '1199 cc', 'Transmission': 'Manual', 'FuelType': 'Petrol', 'Mileage': '20.09 kmpl', 'Href': '/overview/Tata_Punch/Tata_Punch_Camo_Accomplished.htm'}\n",
      "{'Title': 'Punch Adventure CNG', 'Engine': '1199 cc', 'Transmission': 'Manual', 'FuelType': 'CNG', 'Mileage': '26.99 km/kg', 'Href': '/overview/Tata_Punch/Tata_Punch_Adventure_CNG.htm'}\n",
      "{'Title': 'Punch Adventure AMT Rhythm', 'Engine': '1199 cc', 'Transmission': 'Automatic', 'FuelType': 'Petrol', 'Mileage': '18.8 kmpl', 'Href': '/overview/Tata_Punch/Tata_Punch_Adventure_AMT_Rhythm.htm'}\n",
      "{'Title': 'Punch Camo Adventure AMT Rhythm', 'Engine': '1199 cc', 'Transmission': 'Automatic', 'FuelType': 'Petrol', 'Mileage': '18.8 kmpl', 'Href': '/overview/Tata_Punch/Tata_Punch_Camo_Adventure_AMT_Rhythm.htm'}\n",
      "{'Title': 'Punch Camo Accomplished Dazzle', 'Engine': '1199 cc', 'Transmission': 'Manual', 'FuelType': 'Petrol', 'Mileage': '20.09 kmpl', 'Href': '/overview/Tata_Punch/Tata_Punch_Camo_Accomplished_Dazzle.htm'}\n",
      "{'Title': 'Punch Adventure Rhythm CNG', 'Engine': '1199 cc', 'Transmission': 'Manual', 'FuelType': 'CNG', 'Mileage': '26.99 km/kg', 'Href': '/overview/Tata_Punch/Tata_Punch_Adventure_Rhythm_CNG.htm'}\n",
      "{'Title': 'Punch Accomplished S', 'Engine': '1199 cc', 'Transmission': 'Manual', 'FuelType': 'Petrol', 'Mileage': '20.09 kmpl', 'Href': '/overview/Tata_Punch/Tata_Punch_Accomplished_S.htm'}\n",
      "{'Title': 'Punch Accomplished', 'Engine': '1199 cc', 'Transmission': 'Manual', 'FuelType': 'Petrol', 'Mileage': '20.09 kmpl', 'Href': '/overview/Tata_Punch/Tata_Punch_Accomplished.htm'}\n",
      "{'Title': 'Punch Camo Accomplished AMT', 'Engine': '1199 cc', 'Transmission': 'Automatic', 'FuelType': 'Petrol', 'Mileage': '18.8 kmpl', 'Href': '/overview/Tata_Punch/Tata_Punch_Camo_Accomplished_AMT.htm'}\n",
      "{'Title': 'Punch Accomplished Dazzle S', 'Engine': '1199 cc', 'Transmission': 'Manual', 'FuelType': 'Petrol', 'Mileage': '20.09 kmpl', 'Href': '/overview/Tata_Punch/Tata_Punch_Accomplished_Dazzle_S.htm'}\n",
      "{'Title': 'Punch Accomplished Dazzle', 'Engine': '1199 cc', 'Transmission': 'Manual', 'FuelType': 'Petrol', 'Mileage': '20.09 kmpl', 'Href': '/overview/Tata_Punch/Tata_Punch_Accomplished_Dazzle.htm'}\n",
      "{'Title': 'Punch Camo Accomplished AMT Dazzle', 'Engine': '1199 cc', 'Transmission': 'Automatic', 'FuelType': 'Petrol', 'Mileage': '18.8 kmpl', 'Href': '/overview/Tata_Punch/Tata_Punch_Camo_Accomplished_AMT_Dazzle.htm'}\n",
      "{'Title': 'Punch Accomplished S AMT', 'Engine': '1199 cc', 'Transmission': 'Automatic', 'FuelType': 'Petrol', 'Mileage': '18.8 kmpl', 'Href': '/overview/Tata_Punch/Tata_Punch_Accomplished_S_AMT.htm'}\n",
      "{'Title': 'Punch Accomplished CNG', 'Engine': '1199 cc', 'Transmission': 'Manual', 'FuelType': 'CNG', 'Mileage': '26.99 km/kg', 'Href': '/overview/Tata_Punch/Tata_Punch_Accomplished_CNG.htm'}\n",
      "{'Title': 'Punch Accomplished AMT', 'Engine': '1199 cc', 'Transmission': 'Automatic', 'FuelType': 'Petrol', 'Mileage': '18.8 kmpl', 'Href': '/overview/Tata_Punch/Tata_Punch_Accomplished_AMT.htm'}\n",
      "{'Title': 'Punch Creative DT S', 'Engine': '1199 cc', 'Transmission': 'Manual', 'FuelType': 'Petrol', 'Mileage': '20.09 kmpl', 'Href': '/overview/Tata_Punch/Tata_Punch_Creative_DT_S.htm'}\n",
      "{'Title': 'Punch Creative DT', 'Engine': '1199 cc', 'Transmission': 'Manual', 'FuelType': 'Petrol', 'Mileage': '20.09 kmpl', 'Href': '/overview/Tata_Punch/Tata_Punch_Creative_DT.htm'}\n",
      "{'Title': 'Punch Accomplished Dazzle S AMT', 'Engine': '1199 cc', 'Transmission': 'Automatic', 'FuelType': 'Petrol', 'Mileage': '18.8 kmpl', 'Href': '/overview/Tata_Punch/Tata_Punch_Accomplished_Dazzle_S_AMT.htm'}\n",
      "{'Title': 'Punch Accomplished AMT Dazzle', 'Engine': '1199 cc', 'Transmission': 'Automatic', 'FuelType': 'Petrol', 'Mileage': '18.8 kmpl', 'Href': '/overview/Tata_Punch/Tata_Punch_Accomplished_AMT_Dazzle.htm'}\n",
      "{'Title': 'Punch Creative Flagship DT', 'Engine': '1199 cc', 'Transmission': 'Manual', 'FuelType': 'Petrol', 'Mileage': '20.09 kmpl', 'Href': '/overview/Tata_Punch/Tata_Punch_Creative_Flagship_DT.htm'}\n",
      "{'Title': 'Punch Accomplished Dazzle S CNG', 'Engine': '1199 cc', 'Transmission': 'Manual', 'FuelType': 'CNG', 'Mileage': '26.99 km/kg', 'Href': '/overview/Tata_Punch/Tata_Punch_Accomplished_Dazzle_S_CNG.htm'}\n",
      "{'Title': 'Punch Creative S AMT DT', 'Engine': '1199 cc', 'Transmission': 'Automatic', 'FuelType': 'Petrol', 'Mileage': '18.8 kmpl', 'Href': '/overview/Tata_Punch/Tata_Punch_Creative_S_AMT_DT.htm'}\n",
      "{'Title': 'Punch Creative AMT DT', 'Engine': '1199 cc', 'Transmission': 'Automatic', 'FuelType': 'Petrol', 'Mileage': '18.8 kmpl', 'Href': '/overview/Tata_Punch/Tata_Punch_Creative_AMT_DT.htm'}\n",
      "{'Title': 'Punch Creative Flagship AMT DT', 'Engine': '1199 cc', 'Transmission': 'Automatic', 'FuelType': 'Petrol', 'Mileage': '18.8 kmpl', 'Href': '/overview/Tata_Punch/Tata_Punch_Creative_Flagship_AMT_DT.htm'}\n"
     ]
    }
   ],
   "source": [
    "tata = get_modelvariant_info('https://www.cardekho.com/tata/punch')"
   ]
  },
  {
   "cell_type": "code",
   "execution_count": 44,
   "id": "d8b6d3f6",
   "metadata": {},
   "outputs": [],
   "source": [
    "def get_each_car_info_test(url):\n",
    "    soup = get_soup(url)\n",
    "    pre_model = soup.find('main', class_=\"gsc_container\")\n",
    "    content = pre_model.find('section',class_='specsAllLists')\n",
    "    print(content)"
   ]
  },
  {
   "cell_type": "code",
   "execution_count": 45,
   "id": "566128f9",
   "metadata": {},
   "outputs": [
    {
     "name": "stdout",
     "output_type": "stream",
     "text": [
      "<section class=\"specsAllLists\"><div class=\"clearfix technicalSpecs shadow24 marginBottom20\" data-track-component=\"SpecificationlistTopNew\" id=\"technicalSpecsTop\"><div class=\"toggleAccordion specsFeaturesBlock\" data-id=\"Key Specifications of Maruti Swift VXI AMT\" id=\"specification\"><h2>Key Specifications of Maruti Swift VXI AMT</h2><div class=\"featuresIocnsSec gsco_content first\"><table class=\"keyfeature\"><tbody><tr class=\"lefttd\"><td>ARAI Mileage</td><td class=\"right\" data-responsivecelltwo=\"true\"><span>22.56 kmpl</span></td></tr><tr class=\"righttd\"><td>City Mileage</td><td class=\"right\" data-responsivecelltwo=\"true\"><span>21.0 kmpl</span></td></tr><tr class=\"lefttd\"><td>Fuel Type</td><td class=\"right\" data-responsivecelltwo=\"true\"><span>Petrol</span></td></tr><tr class=\"righttd\"><td>Engine Displacement (cc)</td><td class=\"right\" data-responsivecelltwo=\"true\"><span>1197</span></td></tr><tr class=\"lefttd\"><td>No. of cylinder</td><td class=\"right\" data-responsivecelltwo=\"true\"><span>4</span></td></tr><tr class=\"righttd\"><td>Max Power (bhp@rpm)</td><td class=\"right\" data-responsivecelltwo=\"true\"><span>88.50bhp@6000rpm</span></td></tr><tr class=\"lefttd\"><td>Max Torque (nm@rpm)</td><td class=\"right\" data-responsivecelltwo=\"true\"><span>113Nm@4400rpm</span></td></tr><tr class=\"righttd\"><td>Seating Capacity</td><td class=\"right\" data-responsivecelltwo=\"true\"><span>5</span></td></tr><tr class=\"lefttd\"><td>Transmission Type</td><td class=\"right\" data-responsivecelltwo=\"true\"><span>Automatic</span></td></tr><tr class=\"righttd\"><td>Boot Space (Litres)</td><td class=\"right\" data-responsivecelltwo=\"true\"><span>268</span></td></tr><tr class=\"lefttd\"><td>Fuel Tank Capacity (Litres)</td><td class=\"right\" data-responsivecelltwo=\"true\"><span>37</span></td></tr><tr class=\"righttd\"><td>Body Type</td><td class=\"right\" data-responsivecelltwo=\"true\"><span>Hatchback</span></td></tr></tbody></table></div></div><div class=\"toggleAccordion specsFeaturesBlock\" data-id=\"Key Features of Maruti Swift VXI AMT\" id=\"specification\"><h2>Key Features of Maruti Swift VXI AMT</h2><div class=\"featuresIocnsSec gsco_content first\"><table class=\"keyfeature\"><tbody><tr class=\"lefttd\"><td>Multi-function Steering Wheel</td><td class=\"right\"><span><i class=\"icon-check\"></i><span class=\"hide\">Yes</span></span></td></tr><tr class=\"righttd\"><td>Power Adjustable Exterior Rear View Mirror</td><td class=\"right\"><span><i class=\"icon-check\"></i><span class=\"hide\">Yes</span></span></td></tr><tr class=\"lefttd\"><td>Touch Screen</td><td class=\"right\"><span><i class=\"icon-deletearrow\"></i><span class=\"hide\">No</span></span></td></tr><tr class=\"righttd\"><td>Automatic Climate Control</td><td class=\"right\"><span><i class=\"icon-deletearrow\"></i><span class=\"hide\">No</span></span></td></tr><tr class=\"lefttd\"><td>Engine Start Stop Button</td><td class=\"right\"><span><i class=\"icon-deletearrow\"></i><span class=\"hide\">No</span></span></td></tr><tr class=\"righttd\"><td>Anti Lock Braking System</td><td class=\"right\"><span><i class=\"icon-check\"></i><span class=\"hide\">Yes</span></span></td></tr><tr class=\"lefttd\"><td>Alloy Wheels</td><td class=\"right\"><span><i class=\"icon-deletearrow\"></i><span class=\"hide\">No</span></span></td></tr><tr class=\"righttd\"><td>Power Windows Rear</td><td class=\"right\"><span><i class=\"icon-check\"></i><span class=\"hide\">Yes</span></span></td></tr><tr class=\"lefttd\"><td>Power Windows Front</td><td class=\"right\"><span><i class=\"icon-check\"></i><span class=\"hide\">Yes</span></span></td></tr><tr class=\"righttd\"><td>Wheel Covers</td><td class=\"right\"><span><i class=\"icon-check\"></i><span class=\"hide\">Yes</span></span></td></tr><tr class=\"lefttd\"><td>Passenger Airbag</td><td class=\"right\"><span><i class=\"icon-check\"></i><span class=\"hide\">Yes</span></span></td></tr><tr class=\"righttd\"><td>Driver Airbag</td><td class=\"right\"><span><i class=\"icon-check\"></i><span class=\"hide\">Yes</span></span></td></tr><tr class=\"lefttd\"><td>Power Steering</td><td class=\"right\"><span><i class=\"icon-check\"></i><span class=\"hide\">Yes</span></span></td></tr><tr class=\"righttd\"><td>Air Conditioner</td><td class=\"right\"><span><i class=\"icon-check\"></i><span class=\"hide\">Yes</span></span></td></tr></tbody></table></div></div></div></section>\n"
     ]
    }
   ],
   "source": [
    "get_each_car_info_test('https://www.cardekho.com/overview/Maruti_Swift/Maruti_Swift_VXI_AMT.htm')"
   ]
  },
  {
   "cell_type": "code",
   "execution_count": 46,
   "id": "b3ba11a9",
   "metadata": {},
   "outputs": [],
   "source": [
    "def get_each_car_info(url):\n",
    "    soup = get_soup(url)\n",
    "    pre_model = soup.find('main', class_=\"gsc_container\")\n",
    "    content = pre_model.find('section',class_='specsAllLists')\n",
    "    try:\n",
    "        # Find the sections with key specifications and key features\n",
    "        specs_section = content.find('div', {'data-id': 'Key Specifications of Maruti Swift VXI AMT'})\n",
    "        features_section = content.find('div', {'data-id': 'Key Features of Maruti Swift VXI AMT'})\n",
    "\n",
    "        # Extract key specifications\n",
    "        specs = {}\n",
    "        if specs_section:\n",
    "            spec_table = specs_section.find('table', {'class': 'keyfeature'})\n",
    "            if spec_table:\n",
    "                for row in spec_table.find_all('tr'):\n",
    "                    columns = row.find_all('td')\n",
    "                    if len(columns) == 2:\n",
    "                        key = columns[0].text.strip()\n",
    "                        value = columns[1].text.strip()\n",
    "                        specs[key] = value\n",
    "\n",
    "        # Extract key features\n",
    "        features = {}\n",
    "        if features_section:\n",
    "            feature_table = features_section.find('table', {'class': 'keyfeature'})\n",
    "            if feature_table:\n",
    "                for row in feature_table.find_all('tr'):\n",
    "                    columns = row.find_all('td')\n",
    "                    if len(columns) == 2:\n",
    "                        key = columns[0].text.strip()\n",
    "                        value = True if 'icon-check' in columns[1].prettify() else False\n",
    "                        features[key] = value\n",
    "\n",
    "        return {'Key Specifications': specs, 'Key Features': features}\n",
    "\n",
    "    except Exception as e:\n",
    "        print(f\"Error: {e}\")\n",
    "        return None"
   ]
  },
  {
   "cell_type": "code",
   "execution_count": 47,
   "id": "910b8d07",
   "metadata": {},
   "outputs": [
    {
     "data": {
      "text/plain": [
       "{'Key Specifications': {'ARAI Mileage': '22.56 kmpl',\n",
       "  'City Mileage': '21.0 kmpl',\n",
       "  'Fuel Type': 'Petrol',\n",
       "  'Engine Displacement (cc)': '1197',\n",
       "  'No. of cylinder': '4',\n",
       "  'Max Power (bhp@rpm)': '88.50bhp@6000rpm',\n",
       "  'Max Torque (nm@rpm)': '113Nm@4400rpm',\n",
       "  'Seating Capacity': '5',\n",
       "  'Transmission Type': 'Automatic',\n",
       "  'Boot Space (Litres)': '268',\n",
       "  'Fuel Tank Capacity (Litres)': '37',\n",
       "  'Body Type': 'Hatchback'},\n",
       " 'Key Features': {'Multi-function Steering Wheel': True,\n",
       "  'Power Adjustable Exterior Rear View Mirror': True,\n",
       "  'Touch Screen': False,\n",
       "  'Automatic Climate Control': False,\n",
       "  'Engine Start Stop Button': False,\n",
       "  'Anti Lock Braking System': True,\n",
       "  'Alloy Wheels': False,\n",
       "  'Power Windows Rear': True,\n",
       "  'Power Windows Front': True,\n",
       "  'Wheel Covers': True,\n",
       "  'Passenger Airbag': True,\n",
       "  'Driver Airbag': True,\n",
       "  'Power Steering': True,\n",
       "  'Air Conditioner': True}}"
      ]
     },
     "execution_count": 47,
     "metadata": {},
     "output_type": "execute_result"
    }
   ],
   "source": [
    "get_each_car_info('https://www.cardekho.com/overview/Maruti_Swift/Maruti_Swift_VXI_AMT.htm')"
   ]
  },
  {
   "cell_type": "code",
   "execution_count": 60,
   "id": "0891dae7",
   "metadata": {},
   "outputs": [],
   "source": [
    "def extract_on_road_price(url):\n",
    "    try:\n",
    "        soup = get_soup(url)\n",
    "        pre_model = soup.find('main', class_=\"gsc_container\")\n",
    "        content = pre_model.find('section',class_='marginBottom20 shadow24 variantPriceTable  clearfix')\n",
    "\n",
    "        # Find the section with on-road price details\n",
    "        on_road_price_section = soup.find('section', {'id': 'OnRoadPrice'})\n",
    "\n",
    "        # Extract on-road price details\n",
    "        on_road_price = {}\n",
    "        if on_road_price_section:\n",
    "            price_table = on_road_price_section.find('table')\n",
    "            if price_table:\n",
    "                for row in price_table.find_all('tr'):\n",
    "                    columns = row.find_all('td')\n",
    "                    if len(columns) == 2:\n",
    "                        key = columns[0].text.strip()\n",
    "                        value = columns[1].text.strip()\n",
    "                        on_road_price[key] = value\n",
    "\n",
    "        return on_road_price\n",
    "\n",
    "    except Exception as e:\n",
    "        print(f\"Error: {e}\")\n",
    "        return None"
   ]
  },
  {
   "cell_type": "code",
   "execution_count": 61,
   "id": "a6d953db",
   "metadata": {},
   "outputs": [
    {
     "data": {
      "text/plain": [
       "{'Ex-Showroom Price': 'Rs.7,50,000',\n",
       " 'RTO': 'Rs.52,500',\n",
       " 'Insurance The Insurance amount is calculated based the engine size/battery size of the car and also different for metro cities and other cities. It can also differ from dealer to dealer depending on the insurance provider & commissions.': 'Rs.40,357',\n",
       " 'On-Road Price in New Delhi': 'Rs.8,42,857*'}"
      ]
     },
     "execution_count": 61,
     "metadata": {},
     "output_type": "execute_result"
    }
   ],
   "source": [
    "extract_on_road_price('https://www.cardekho.com/overview/Maruti_Swift/Maruti_Swift_VXI_AMT.htm')"
   ]
  },
  {
   "cell_type": "code",
   "execution_count": 58,
   "id": "4471a09c",
   "metadata": {},
   "outputs": [],
   "source": [
    "def extract_table_info(url):\n",
    "    try:\n",
    "        # Parse the HTML content using BeautifulSoup\n",
    "        soup = get_soup(url)\n",
    "        pre_model = soup.find('main', class_=\"gsc_container\")\n",
    "        content = pre_model.find('section',class_='marginBottom20 shadow24 variantPriceTable  clearfix')\n",
    "        print(content)\n",
    "        \n",
    "        # Find the table inside the provided HTML content\n",
    "        table = content.find('table')\n",
    "\n",
    "        # Extract information from the table\n",
    "        table_info = []\n",
    "        if table:\n",
    "            for row in table.find_all('tr'):\n",
    "                columns = row.find_all('td')\n",
    "                if len(columns) == 2:\n",
    "                    key = columns[0].text.strip()\n",
    "                    value = columns[1].text.strip()\n",
    "                    table_info.append({key: value})\n",
    "\n",
    "        return table_info\n",
    "\n",
    "    except Exception as e:\n",
    "        print(f\"Error: {e}\")\n",
    "        return None"
   ]
  },
  {
   "cell_type": "code",
   "execution_count": 59,
   "id": "267b0080",
   "metadata": {},
   "outputs": [
    {
     "name": "stdout",
     "output_type": "stream",
     "text": [
      "None\n",
      "Error: 'NoneType' object has no attribute 'find'\n"
     ]
    }
   ],
   "source": [
    "\n",
    "extract_table_info('https://www.cardekho.com/overview/Maruti_Swift/Maruti_Swift_VXI_AMT.htm')"
   ]
  },
  {
   "cell_type": "code",
   "execution_count": 69,
   "id": "efb679de",
   "metadata": {},
   "outputs": [
    {
     "data": {
      "text/plain": [
       "{'PriceHeading': 'Maruti Swift VXI AMT Price',\n",
       " 'Ex-Showroom Price': 'Rs.7,50,000',\n",
       " 'RTO': 'Rs.52,500',\n",
       " 'Insurance The Insurance amount is calculated based the engine size/battery size of the car and also different for metro cities and other cities. It can also differ from dealer to dealer depending on the insurance provider & commissions.': 'Rs.40,357',\n",
       " 'On-Road Price in New Delhi': 'Rs.8,42,857*',\n",
       " 'EMI': 'EMI : Rs.16,049/month',\n",
       " 'BaseModel': 'Petrol'}"
      ]
     },
     "execution_count": 69,
     "metadata": {},
     "output_type": "execute_result"
    }
   ],
   "source": [
    "def extract_on_road_price(url):\n",
    "    try:\n",
    "        # Parse the HTML content using BeautifulSoup\n",
    "        soup = get_soup(url)\n",
    "        pre_model = soup.find('main', class_=\"gsc_container\")\n",
    "        content = pre_model.find('section',class_='marginBottom20 shadow24 variantPriceTable  clearfix')\n",
    "\n",
    "        # Find the section with on-road price details\n",
    "        on_road_price_section = soup.find('section', {'id': 'OnRoadPrice'})\n",
    "\n",
    "        # Initialize a dictionary to store extracted information\n",
    "        on_road_price_info = {}\n",
    "\n",
    "        # Extract the price details if the section is found\n",
    "        if on_road_price_section:\n",
    "            # Extract the price heading\n",
    "            price_heading = on_road_price_section.find('h2').text.strip()\n",
    "            on_road_price_info['PriceHeading'] = price_heading\n",
    "\n",
    "            # Extract details from the table\n",
    "            table = on_road_price_section.find('table')\n",
    "            if table:\n",
    "                for row in table.find_all('tr'):\n",
    "                    columns = row.find_all('td')\n",
    "                    if len(columns) == 2:\n",
    "                        key = columns[0].text.strip()\n",
    "                        value = columns[1].text.strip()\n",
    "#                         on_road_price_info[key] = value\n",
    "\n",
    "                        # Ignore the specified span element for 'Insurance'\n",
    "                        if key == 'Insurance':\n",
    "                            span = columns[0].find('span', class_='infodetail')\n",
    "                            if span:\n",
    "                                key = key.replace(span.text.strip(), '').strip()\n",
    "\n",
    "                        value = columns[1].text.strip()\n",
    "\n",
    "                        on_road_price_info[key] = value\n",
    "            # Extract additional information\n",
    "            emi_info = on_road_price_section.find('div', class_='getfinance')\n",
    "            if emi_info:\n",
    "                on_road_price_info['EMI'] = emi_info.span.text.strip()\n",
    "\n",
    "            base_model_info = on_road_price_section.find('div', class_='basemodel')\n",
    "            if base_model_info:\n",
    "                on_road_price_info['BaseModel'] = base_model_info.text.strip()\n",
    "\n",
    "            return on_road_price_info\n",
    "\n",
    "    except Exception as e:\n",
    "        print(f\"Error: {e}\")\n",
    "        return None\n",
    "\n",
    "extract_on_road_price('https://www.cardekho.com/overview/Maruti_Swift/Maruti_Swift_VXI_AMT.htm')"
   ]
  },
  {
   "cell_type": "code",
   "execution_count": 104,
   "id": "3e4ddaa5",
   "metadata": {},
   "outputs": [
    {
     "data": {
      "text/plain": [
       "{'Model': 'Maruti Swift VXI AMT',\n",
       " 'Ex-Showroom ': 'Rs.7,50,000',\n",
       " 'RTO': 'Rs.52,500',\n",
       " 'Insurance': 'Rs.40,357',\n",
       " 'On-Road  in New Delhi': 'Rs.8,42,857*'}"
      ]
     },
     "execution_count": 104,
     "metadata": {},
     "output_type": "execute_result"
    }
   ],
   "source": [
    "from bs4 import BeautifulSoup\n",
    "\n",
    "def extract_on_road_price_delhi(url):\n",
    "    try:\n",
    "        # Parse the HTML content using BeautifulSoup\n",
    "        soup = get_soup(url)\n",
    "        # Find the section with on-road price details\n",
    "        on_road_price_section = soup.find('section', {'id': 'OnRoadPrice'})\n",
    "\n",
    "        # Initialize a dictionary to store extracted information\n",
    "        on_road_price_info = {}\n",
    "\n",
    "        # Extract the price details if the section is found\n",
    "        if on_road_price_section:\n",
    "            # Extract the price heading\n",
    "            price_heading = on_road_price_section.find('h2').text.strip()\n",
    "            on_road_price_info['Model'] = price_heading.replace('price','').replace(\"Price\",\"\").strip()\n",
    "\n",
    "            # Extract details from the table\n",
    "            table = on_road_price_section.find('table')\n",
    "            if table:\n",
    "                for row in table.find_all('tr'):\n",
    "                    columns = row.find_all('td')\n",
    "                    if len(columns) == 2:\n",
    "                        key = columns[0].text.strip()\n",
    "\n",
    "                        # Ignore the specified span element for 'Insurance'\n",
    "                        # Ignore the specified span element for 'Insurance'\n",
    "                        if 'price' in key.lower():\n",
    "                            key= key.replace('price','').replace('Price','')\n",
    "                        elif key.split(\" \")[0] == 'Insurance':\n",
    "                            span = columns[0].find('span', class_='infodetail')\n",
    "                            if span:\n",
    "                                key = key.replace(span.text.strip(), '').strip()\n",
    "                        elif key.split(\" \")[0] == 'On-Road':\n",
    "                            key = key.replace(key, \" \".join(key.split(' ')[0:2])).strip()\n",
    "                        \n",
    "                        value = columns[1].text.strip()\n",
    "                        on_road_price_info[key] = value\n",
    "\n",
    "            return (on_road_price_info)\n",
    "\n",
    "    except Exception as e:\n",
    "        print(f\"Error: {e}\")\n",
    "        return None\n",
    "extract_on_road_price_delhi('https://www.cardekho.com/overview/Maruti_Swift/Maruti_Swift_VXI_AMT.htm')"
   ]
  },
  {
   "cell_type": "code",
   "execution_count": 119,
   "id": "37883d9a",
   "metadata": {},
   "outputs": [
    {
     "data": {
      "text/plain": [
       "{'Key Specifications': {}, 'Key Features': {}}"
      ]
     },
     "execution_count": 119,
     "metadata": {},
     "output_type": "execute_result"
    }
   ],
   "source": [
    "extract_on_road_price_delhi('https://www.cardekho.com/overview/Maruti_Swift/Maruti_Swift_LXI.htm')\n",
    "get_each_car_info('https://www.cardekho.com/overview/Maruti_Swift/Maruti_Swift_LXI.htm')"
   ]
  },
  {
   "cell_type": "markdown",
   "id": "b841f78b",
   "metadata": {},
   "source": [
    " [{'Variant': 'Ertiga Tour STD', 'link': 'https://www.cardekho.com/overview/Maruti_Ertiga_Tour/Maruti_Ertiga_Tour_STD.htm'}, {'Variant': 'Ertiga Tour STD CNG', 'link': 'https://www.cardekho.com/overview/Maruti_Ertiga_Tour/Maruti_Ertiga_Tour_STD_CNG.htm'}]"
   ]
  },
  {
   "cell_type": "code",
   "execution_count": 214,
   "id": "de7c691e",
   "metadata": {},
   "outputs": [
    {
     "name": "stdout",
     "output_type": "stream",
     "text": [
      "[<div class=\"featuresIocnsSec gsco_content first\"><table class=\"keyfeature\"><tbody><tr class=\"lefttd\"><td>ARAI Mileage</td><td class=\"right\" data-responsivecelltwo=\"true\"><span>24.12 kmpl</span></td></tr><tr class=\"righttd\"><td>Fuel Type</td><td class=\"right\" data-responsivecelltwo=\"true\"><span>Petrol</span></td></tr><tr class=\"lefttd\"><td>Engine Displacement (cc)</td><td class=\"right\" data-responsivecelltwo=\"true\"><span>998</span></td></tr><tr class=\"righttd\"><td>No. of cylinder</td><td class=\"right\" data-responsivecelltwo=\"true\"><span>3</span></td></tr><tr class=\"lefttd\"><td>Max Power (bhp@rpm)</td><td class=\"right\" data-responsivecelltwo=\"true\"><span>65.71bhp@5500rpm</span></td></tr><tr class=\"righttd\"><td>Max Torque (nm@rpm)</td><td class=\"right\" data-responsivecelltwo=\"true\"><span>89Nm@3500rpm</span></td></tr><tr class=\"lefttd\"><td>Seating Capacity</td><td class=\"right\" data-responsivecelltwo=\"true\"><span>5</span></td></tr><tr class=\"righttd\"><td>Transmission Type</td><td class=\"right\" data-responsivecelltwo=\"true\"><span>Manual</span></td></tr><tr class=\"lefttd\"><td>Boot Space (Litres)</td><td class=\"right\" data-responsivecelltwo=\"true\"><span>240</span></td></tr><tr class=\"righttd\"><td>Fuel Tank Capacity (Litres)</td><td class=\"right\" data-responsivecelltwo=\"true\"><span>27</span></td></tr><tr class=\"lefttd\"><td>Body Type</td><td class=\"right\" data-responsivecelltwo=\"true\"><span>Hatchback</span></td></tr><tr class=\"righttd\"><td>Service Cost (Avg. of 5 years)</td><td class=\"right\" data-responsivecelltwo=\"true\"><span><span>Rs.</span>3,560</span></td></tr></tbody></table></div>, <div class=\"featuresIocnsSec gsco_content first\"><table class=\"keyfeature\"><tbody><tr class=\"lefttd\"><td>Multi-function Steering Wheel</td><td class=\"right\"><span><i class=\"icon-deletearrow\"></i><span class=\"hide\">No</span></span></td></tr><tr class=\"righttd\"><td>Power Adjustable Exterior Rear View Mirror</td><td class=\"right\"><span><i class=\"icon-deletearrow\"></i><span class=\"hide\">No</span></span></td></tr><tr class=\"lefttd\"><td>Touch Screen</td><td class=\"right\"><span><i class=\"icon-deletearrow\"></i><span class=\"hide\">No</span></span></td></tr><tr class=\"righttd\"><td>Anti Lock Braking System</td><td class=\"right\"><span><i class=\"icon-check\"></i><span class=\"hide\">Yes</span></span></td></tr><tr class=\"lefttd\"><td>Power Windows Front</td><td class=\"right\"><span><i class=\"icon-deletearrow\"></i><span class=\"hide\">No</span></span></td></tr><tr class=\"righttd\"><td>Wheel Covers</td><td class=\"right\"><span><i class=\"icon-deletearrow\"></i><span class=\"hide\">No</span></span></td></tr><tr class=\"lefttd\"><td>Passenger Airbag</td><td class=\"right\"><span><i class=\"icon-check\"></i><span class=\"hide\">Yes</span></span></td></tr><tr class=\"righttd\"><td>Driver Airbag</td><td class=\"right\"><span><i class=\"icon-check\"></i><span class=\"hide\">Yes</span></span></td></tr><tr class=\"lefttd\"><td>Power Steering</td><td class=\"right\"><span><i class=\"icon-deletearrow\"></i><span class=\"hide\">No</span></span></td></tr><tr class=\"righttd\"><td>Air Conditioner</td><td class=\"right\"><span><i class=\"icon-deletearrow\"></i><span class=\"hide\">No</span></span></td></tr></tbody></table></div>]\n",
      "\n"
     ]
    }
   ],
   "source": [
    "#Get each variant info\n",
    "def get_each_car_info(variant_url):\n",
    "    soup = get_soup(variant_url)\n",
    "    pre_model = soup.find('main', class_=\"gsc_container\")\n",
    "    content = pre_model.find('section',class_='specsAllLists')\n",
    "    # Extract Key Specifications\n",
    "    key_specifications = {}\n",
    "    key_features = {}\n",
    "    key_spec_h2 = content.find_all('div', class_='featuresIocnsSec gsco_content first')\n",
    "    print(key_spec_h2,end=\"\\n\\n\")\n",
    "get_each_car_info('https://www.cardekho.com/overview/Maruti_S-Presso/Maruti_S-Presso_STD.htm') "
   ]
  },
  {
   "cell_type": "code",
   "execution_count": 220,
   "id": "693b55c7",
   "metadata": {},
   "outputs": [
    {
     "data": {
      "text/plain": [
       "{'key_specifications': {'ARAI Mileage': '24.12 kmpl',\n",
       "  'Fuel Type': 'Petrol',\n",
       "  'Engine Displacement (cc)': '998',\n",
       "  'No. of cylinder': '3',\n",
       "  'Max Power (bhp@rpm)': '65.71bhp@5500rpm',\n",
       "  'Max Torque (nm@rpm)': '89Nm@3500rpm',\n",
       "  'Seating Capacity': '5',\n",
       "  'Transmission Type': 'Manual',\n",
       "  'Boot Space (Litres)': '240',\n",
       "  'Fuel Tank Capacity (Litres)': '27',\n",
       "  'Body Type': 'Hatchback',\n",
       "  'Service Cost (Avg. of 5 years)': 'Rs.3,560'},\n",
       " 'key_features': {'Multi-function Steering Wheel': 'No',\n",
       "  'Power Adjustable Exterior Rear View Mirror': 'No',\n",
       "  'Touch Screen': 'No',\n",
       "  'Anti Lock Braking System': 'Yes',\n",
       "  'Power Windows Front': 'No',\n",
       "  'Wheel Covers': 'No',\n",
       "  'Passenger Airbag': 'Yes',\n",
       "  'Driver Airbag': 'Yes',\n",
       "  'Power Steering': 'No',\n",
       "  'Air Conditioner': 'No'}}"
      ]
     },
     "execution_count": 220,
     "metadata": {},
     "output_type": "execute_result"
    }
   ],
   "source": [
    "#Get each variant info\n",
    "def get_each_car_info(variant_url):\n",
    "    soup = get_soup(variant_url)\n",
    "    pre_model = soup.find('main', class_=\"gsc_container\")\n",
    "    content = pre_model.find('section',class_='specsAllLists')\n",
    "#     print(content)\n",
    "    try:\n",
    "                # Extract Key Specifications\n",
    "        key_specifications = {}\n",
    "        key_spec_div = soup.find_all('div', class_='featuresIocnsSec gsco_content first')[0]\n",
    "        if key_spec_div:\n",
    "            key_spec_table = key_spec_div.find('table', class_='keyfeature')\n",
    "            if key_spec_table:\n",
    "                rows = key_spec_table.find_all('tr')\n",
    "                for row in rows:\n",
    "                    columns = row.find_all('td')\n",
    "                    if len(columns) == 2:\n",
    "                        key = columns[0].text.strip()\n",
    "                        value = columns[1].text.strip()\n",
    "                        key_specifications[key] = value\n",
    "\n",
    "        # Extract Key Features\n",
    "        key_features = {}\n",
    "        key_feat_div = soup.find_all('div', class_='featuresIocnsSec gsco_content first')[1]\n",
    "        if key_feat_div:\n",
    "            key_feat_table = key_feat_div.find('table', class_='keyfeature')\n",
    "            if key_feat_table:\n",
    "                rows = key_feat_table.find_all('tr')\n",
    "                for row in rows:\n",
    "                    columns = row.find_all('td')\n",
    "                    if len(columns) == 2:\n",
    "                        key = columns[0].text.strip()\n",
    "                        value = columns[1].text.strip()\n",
    "                        key_features[key] = value\n",
    "        return {'key_specifications': key_specifications,'key_features':key_features}\n",
    "    except Exception as e:\n",
    "        print(f\"Error: {e}\")\n",
    "        return None\n",
    "get_each_car_info('https://www.cardekho.com/overview/Maruti_S-Presso/Maruti_S-Presso_STD.htm') "
   ]
  },
  {
   "cell_type": "code",
   "execution_count": 221,
   "id": "806939b9",
   "metadata": {},
   "outputs": [
    {
     "data": {
      "text/plain": [
       "{'key_specifications': {'ARAI Mileage': '22.41 kmpl',\n",
       "  'Fuel Type': 'Petrol',\n",
       "  'Engine Displacement (cc)': '1197',\n",
       "  'No. of cylinder': '4',\n",
       "  'Max Power (bhp@rpm)': '88.50bhp@6000rpm',\n",
       "  'Max Torque (nm@rpm)': '113Nm@4400rpm',\n",
       "  'Seating Capacity': '5',\n",
       "  'Transmission Type': 'Manual',\n",
       "  'Boot Space (Litres)': '378',\n",
       "  'Fuel Tank Capacity (Litres)': '37',\n",
       "  'Body Type': 'Sedan',\n",
       "  'Service Cost (Avg. of 5 years)': 'Rs.5,254'},\n",
       " 'key_features': {'Multi-function Steering Wheel': 'Yes',\n",
       "  'Power Adjustable Exterior Rear View Mirror': 'Yes',\n",
       "  'Touch Screen': 'Yes',\n",
       "  'Automatic Climate Control': 'Yes',\n",
       "  'Engine Start Stop Button': 'Yes',\n",
       "  'Anti Lock Braking System': 'Yes',\n",
       "  'Alloy Wheels': 'Yes',\n",
       "  'Fog Lights - Front': 'Yes',\n",
       "  'Power Windows Rear': 'Yes',\n",
       "  'Power Windows Front': 'Yes',\n",
       "  'Wheel Covers': 'No',\n",
       "  'Passenger Airbag': 'Yes',\n",
       "  'Driver Airbag': 'Yes',\n",
       "  'Power Steering': 'Yes',\n",
       "  'Air Conditioner': 'Yes'}}"
      ]
     },
     "execution_count": 221,
     "metadata": {},
     "output_type": "execute_result"
    }
   ],
   "source": [
    "get_each_car_info('https://www.cardekho.com/overview/Maruti_Swift_Dzire/Maruti_Swift_Dzire_ZXI_Plus.htm') "
   ]
  },
  {
   "cell_type": "code",
   "execution_count": null,
   "id": "102a8a84",
   "metadata": {},
   "outputs": [],
   "source": [
    "'Key Specifications': {'ARAI Mileage': '24.12 kmpl',\n",
    "  'Fuel Type': 'Petrol',\n",
    "  'Engine Displacement (cc)': '998',\n",
    "  'No. of cylinder': '3',\n",
    "  'Max Power (bhp@rpm)': '65.71bhp@5500rpm',\n",
    "  'Max Torque (nm@rpm)': '89Nm@3500rpm',\n",
    "  'Seating Capacity': '5',\n",
    "  'Transmission Type': 'Manual',\n",
    "  'Boot Space (Litres)': '240',\n",
    "  'Fuel Tank Capacity (Litres)': '27',\n",
    "  'Body Type': 'Hatchback',\n",
    "  'Service Cost (Avg. of 5 years)': 'Rs.3,560'},\n",
    " 'Key Features': {'ARAI Mileage': False,\n",
    "  'Fuel Type': False,\n",
    "  'Engine Displacement (cc)': False,\n",
    "  'No. of cylinder': False,\n",
    "  'Max Power (bhp@rpm)': False,\n",
    "  'Max Torque (nm@rpm)': False,\n",
    "  'Seating Capacity': False,\n",
    "  'Transmission Type': False,\n",
    "  'Boot Space (Litres)': False,\n",
    "  'Fuel Tank Capacity (Litres)': False,\n",
    "  'Body Type': False,\n",
    "  'Service Cost (Avg. of 5 years)': False}}"
   ]
  }
 ],
 "metadata": {
  "kernelspec": {
   "display_name": "Python 3 (ipykernel)",
   "language": "python",
   "name": "python3"
  },
  "language_info": {
   "codemirror_mode": {
    "name": "ipython",
    "version": 3
   },
   "file_extension": ".py",
   "mimetype": "text/x-python",
   "name": "python",
   "nbconvert_exporter": "python",
   "pygments_lexer": "ipython3",
   "version": "3.11.5"
  }
 },
 "nbformat": 4,
 "nbformat_minor": 5
}
