{
 "cells": [
  {
   "cell_type": "code",
   "execution_count": 35,
   "id": "030765af",
   "metadata": {},
   "outputs": [],
   "source": [
    "from requests import get,request\n",
    "from bs4 import BeautifulSoup\n",
    "from time import time, sleep\n",
    "import random\n",
    "import re\n",
    "import requests\n",
    "from urllib.parse import urljoin, urlencode\n",
    "base_url_ = \"https://www.cardekho.com\""
   ]
  },
  {
   "cell_type": "code",
   "execution_count": 2,
   "id": "ae350a4a",
   "metadata": {},
   "outputs": [],
   "source": [
    "def get_soup(url='https://www.cardekho.com/cars/Tata'):\n",
    "    agent = {\"User-Agent\":'Mozilla/5.0 (Windows NT 6.3; WOW64) AppleWebKit/537.36 (KHTML, like Gecko) Chrome/59.0.3071.115 Safari/537.36'}\n",
    "    page = requests.get(url, headers=agent)\n",
    "    soup = BeautifulSoup(page.content, 'lxml')\n",
    "    return soup"
   ]
  },
  {
   "cell_type": "code",
   "execution_count": 3,
   "id": "709a4f6d",
   "metadata": {},
   "outputs": [],
   "source": [
    "def get_models_url(url): #https://www.cardekho.com/maruti-suzuki-cars\n",
    "    soup = get_soup(url)\n",
    "    pre_model = soup.find('div', class_=\"gsc_col-md-8 gsc_col-lg-9 gsc_col-sm-12 gsc_col-xs-12 BrandDesc\")\n",
    "    model_list = pre_model.find('ul', class_=\"modelList\")\n",
    "    all_models = model_list.find_all('li')\n",
    "    \n",
    "    result_dict = {}\n",
    "    \n",
    "    for i in all_models:\n",
    "        try:\n",
    "            target_tag  = i.find('div', class_='gsc_col-sm-12 gsc_col-xs-12 gsc_col-md-8 listView holder posS')\n",
    "            # print(list1)\n",
    "            title = target_tag.find('h3').find('a').text\n",
    "            \n",
    "            link_href = target_tag.find('h3').find('a')['href']\n",
    "            full_url = urljoin(base_url, link_href)\n",
    "            \n",
    "            #Storing in the result dictionary\n",
    "            result_dict[title] = full_url\n",
    "            \n",
    "        except Exception as e:\n",
    "            print(e)\n",
    "    # print(\"CHecking Results: \",result_dict)\n",
    "    return result_dict"
   ]
  },
  {
   "cell_type": "code",
   "execution_count": 40,
   "id": "56086b77",
   "metadata": {},
   "outputs": [],
   "source": [
    "def get_company_url(base_url):\n",
    "    soup = get_soup(base_url)\n",
    "#     print(soup)\n",
    "    main_section = soup.find('main', class_='gsc_container newcarsLanding')\n",
    "#     print(main_section)\n",
    "    brand_section = main_section.find_all('div', class_='contentHold gsc_row')\n",
    "#     print(brand_section[0])\n",
    "    sec = brand_section[0].find('ul', class_='listing gsc_row clearfix')\n",
    "#     print(sec)\n",
    "    # Find all list items within the 'ul' tag\n",
    "    list_items = sec.find_all('li')\n",
    "    brand_direct = {}\n",
    "    # Extract information from each list item\n",
    "    for item in list_items:\n",
    "        # Extract the brand name\n",
    "        brand_name = item.find('span').text\n",
    "\n",
    "        # Extract the image source URL\n",
    "        href = item.find('a')['href']\n",
    "        brand_direct[brand_name] = base_url_+href\n",
    "        \n",
    "    return brand_direct\n",
    "brand_directory = get_company_url('https://www.cardekho.com/newcars')"
   ]
  },
  {
   "cell_type": "code",
   "execution_count": 41,
   "id": "27e83948",
   "metadata": {},
   "outputs": [
    {
     "data": {
      "text/plain": [
       "{'Maruti': 'https://www.cardekho.com/maruti-suzuki-cars',\n",
       " 'Tata': 'https://www.cardekho.com/cars/Tata',\n",
       " 'Kia': 'https://www.cardekho.com/cars/Kia',\n",
       " 'Toyota': 'https://www.cardekho.com/toyota-cars',\n",
       " 'Hyundai': 'https://www.cardekho.com/cars/Hyundai',\n",
       " 'Mahindra': 'https://www.cardekho.com/cars/Mahindra',\n",
       " 'Honda': 'https://www.cardekho.com/cars/Honda',\n",
       " 'MG': 'https://www.cardekho.com/cars/MG',\n",
       " 'Skoda': 'https://www.cardekho.com/cars/Skoda',\n",
       " 'Jeep': 'https://www.cardekho.com/cars/Jeep',\n",
       " 'Renault': 'https://www.cardekho.com/cars/Renault',\n",
       " 'Nissan': 'https://www.cardekho.com/cars/Nissan',\n",
       " 'Volkswagen': 'https://www.cardekho.com/cars/Volkswagen',\n",
       " 'Citroen': 'https://www.cardekho.com/cars/Citroen',\n",
       " 'Aston Martin': 'https://www.cardekho.com/cars/Aston_Martin',\n",
       " 'Audi': 'https://www.cardekho.com/cars/Audi',\n",
       " 'Bajaj': 'https://www.cardekho.com/cars/Bajaj',\n",
       " 'Bentley': 'https://www.cardekho.com/cars/Bentley',\n",
       " 'BMW': 'https://www.cardekho.com/bmw-cars',\n",
       " 'BYD': 'https://www.cardekho.com/cars/BYD',\n",
       " 'Ferrari': 'https://www.cardekho.com/cars/Ferrari',\n",
       " 'Force': 'https://www.cardekho.com/cars/Force',\n",
       " 'Isuzu': 'https://www.cardekho.com/cars/Isuzu',\n",
       " 'Jaguar': 'https://www.cardekho.com/cars/Jaguar',\n",
       " 'Lamborghini': 'https://www.cardekho.com/cars/Lamborghini',\n",
       " 'Land Rover': 'https://www.cardekho.com/cars/Land_Rover',\n",
       " 'Lexus': 'https://www.cardekho.com/cars/Lexus',\n",
       " 'Lotus': 'https://www.cardekho.com/cars/Lotus',\n",
       " 'Maserati': 'https://www.cardekho.com/cars/Maserati',\n",
       " 'Mclaren': 'https://www.cardekho.com/cars/Mclaren',\n",
       " 'Mercedes-Benz': 'https://www.cardekho.com/cars/Mercedes-Benz',\n",
       " 'Mini': 'https://www.cardekho.com/cars/Mini',\n",
       " 'PMV': 'https://www.cardekho.com/cars/PMV',\n",
       " 'Porsche': 'https://www.cardekho.com/porsche-cars',\n",
       " 'Pravaig': 'https://www.cardekho.com/cars/Pravaig',\n",
       " 'Rolls-Royce': 'https://www.cardekho.com/cars/Rolls-Royce',\n",
       " 'Strom Motors': 'https://www.cardekho.com/cars/Strom_Motors',\n",
       " 'Volvo': 'https://www.cardekho.com/cars/Volvo'}"
      ]
     },
     "execution_count": 41,
     "metadata": {},
     "output_type": "execute_result"
    }
   ],
   "source": [
    "brand_directory"
   ]
  },
  {
   "cell_type": "code",
   "execution_count": 46,
   "id": "7d7ab011",
   "metadata": {},
   "outputs": [
    {
     "name": "stdout",
     "output_type": "stream",
     "text": [
      "0 ('Maruti', 'https://www.cardekho.com/maruti-suzuki-cars')\n",
      "1 ('Tata', 'https://www.cardekho.com/cars/Tata')\n",
      "2 ('Kia', 'https://www.cardekho.com/cars/Kia')\n",
      "3 ('Toyota', 'https://www.cardekho.com/toyota-cars')\n",
      "4 ('Hyundai', 'https://www.cardekho.com/cars/Hyundai')\n",
      "5 ('Mahindra', 'https://www.cardekho.com/cars/Mahindra')\n",
      "6 ('Honda', 'https://www.cardekho.com/cars/Honda')\n",
      "7 ('MG', 'https://www.cardekho.com/cars/MG')\n",
      "8 ('Skoda', 'https://www.cardekho.com/cars/Skoda')\n",
      "9 ('Jeep', 'https://www.cardekho.com/cars/Jeep')\n",
      "10 ('Renault', 'https://www.cardekho.com/cars/Renault')\n",
      "11 ('Nissan', 'https://www.cardekho.com/cars/Nissan')\n",
      "12 ('Volkswagen', 'https://www.cardekho.com/cars/Volkswagen')\n",
      "13 ('Citroen', 'https://www.cardekho.com/cars/Citroen')\n",
      "14 ('Aston Martin', 'https://www.cardekho.com/cars/Aston_Martin')\n",
      "15 ('Audi', 'https://www.cardekho.com/cars/Audi')\n",
      "16 ('Bajaj', 'https://www.cardekho.com/cars/Bajaj')\n",
      "17 ('Bentley', 'https://www.cardekho.com/cars/Bentley')\n",
      "18 ('BMW', 'https://www.cardekho.com/bmw-cars')\n",
      "19 ('BYD', 'https://www.cardekho.com/cars/BYD')\n",
      "20 ('Ferrari', 'https://www.cardekho.com/cars/Ferrari')\n",
      "21 ('Force', 'https://www.cardekho.com/cars/Force')\n",
      "22 ('Isuzu', 'https://www.cardekho.com/cars/Isuzu')\n",
      "23 ('Jaguar', 'https://www.cardekho.com/cars/Jaguar')\n",
      "24 ('Lamborghini', 'https://www.cardekho.com/cars/Lamborghini')\n",
      "25 ('Land Rover', 'https://www.cardekho.com/cars/Land_Rover')\n",
      "26 ('Lexus', 'https://www.cardekho.com/cars/Lexus')\n",
      "27 ('Lotus', 'https://www.cardekho.com/cars/Lotus')\n",
      "28 ('Maserati', 'https://www.cardekho.com/cars/Maserati')\n",
      "29 ('Mclaren', 'https://www.cardekho.com/cars/Mclaren')\n",
      "30 ('Mercedes-Benz', 'https://www.cardekho.com/cars/Mercedes-Benz')\n",
      "31 ('Mini', 'https://www.cardekho.com/cars/Mini')\n",
      "32 ('PMV', 'https://www.cardekho.com/cars/PMV')\n",
      "33 ('Porsche', 'https://www.cardekho.com/porsche-cars')\n",
      "34 ('Pravaig', 'https://www.cardekho.com/cars/Pravaig')\n",
      "35 ('Rolls-Royce', 'https://www.cardekho.com/cars/Rolls-Royce')\n",
      "36 ('Strom Motors', 'https://www.cardekho.com/cars/Strom_Motors')\n",
      "37 ('Volvo', 'https://www.cardekho.com/cars/Volvo')\n"
     ]
    }
   ],
   "source": [
    "for index,value in enumerate(brand_directory.items()):\n",
    "    print(index, value)"
   ]
  },
  {
   "cell_type": "code",
   "execution_count": null,
   "id": "90d132b7",
   "metadata": {},
   "outputs": [],
   "source": []
  }
 ],
 "metadata": {
  "kernelspec": {
   "display_name": "Python 3 (ipykernel)",
   "language": "python",
   "name": "python3"
  },
  "language_info": {
   "codemirror_mode": {
    "name": "ipython",
    "version": 3
   },
   "file_extension": ".py",
   "mimetype": "text/x-python",
   "name": "python",
   "nbconvert_exporter": "python",
   "pygments_lexer": "ipython3",
   "version": "3.11.5"
  }
 },
 "nbformat": 4,
 "nbformat_minor": 5
}
